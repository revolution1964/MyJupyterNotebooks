{
 "cells": [
  {
   "cell_type": "markdown",
   "id": "f710cbf5",
   "metadata": {},
   "source": [
    "# Data Science Tools and Ecosystem"
   ]
  },
  {
   "cell_type": "markdown",
   "id": "0c55ec2b",
   "metadata": {},
   "source": [
    "## Author\n",
    "Charles Simmons"
   ]
  },
  {
   "cell_type": "markdown",
   "id": "450d277b",
   "metadata": {},
   "source": [
    "In this notebook, Data Science Tools and Ecosystem are summarized."
   ]
  },
  {
   "cell_type": "markdown",
   "id": "1e355d6a",
   "metadata": {},
   "source": [
    "**Objectives:**\n",
    "- List popular langages of Data Science\n",
    "- List libraries used in Data Science\n",
    "- List popular tools of Data Science\n",
    "- Give examples of evaluating arithmetic"
   ]
  },
  {
   "cell_type": "markdown",
   "id": "42a7cf35",
   "metadata": {},
   "source": [
    "Some of the popular languages that Data Scientists use are\n",
    "\n",
    "1. R\n",
    "2. Python\n",
    "3. Java\n",
    "4. SQL\n"
   ]
  },
  {
   "cell_type": "markdown",
   "id": "f410d7bd",
   "metadata": {},
   "source": [
    "Some of the commonly used libraries used by Data Scientists include:\n",
    "\n",
    "1. NumPy\n",
    "2. Pandas\n",
    "3. Matplotlib\n",
    "4. SciPy\n",
    "4. TensorFlow\n"
   ]
  },
  {
   "cell_type": "markdown",
   "id": "3e1a3af5",
   "metadata": {},
   "source": [
    "|Data Science Tools|\n",
    "|-----|\n",
    "|MySQL|\n",
    "|PostgreSQL|\n",
    "|Hadoop|\n",
    "|Apache AirFlow|\n",
    "|KubeFlow|"
   ]
  },
  {
   "cell_type": "markdown",
   "id": "c50a8b52",
   "metadata": {},
   "source": [
    "### Below are a few examples of evaluating arithmetic expressions in Python"
   ]
  },
  {
   "cell_type": "code",
   "execution_count": 1,
   "id": "11ef8306",
   "metadata": {},
   "outputs": [
    {
     "data": {
      "text/plain": [
       "17"
      ]
     },
     "execution_count": 1,
     "metadata": {},
     "output_type": "execute_result"
    }
   ],
   "source": [
    "# This a simple arithmetic expression to mutiply then add integers\n",
    "(3*4)+5"
   ]
  },
  {
   "cell_type": "code",
   "execution_count": 2,
   "id": "0cb806f3",
   "metadata": {},
   "outputs": [
    {
     "data": {
      "text/plain": [
       "3.3333333333333335"
      ]
     },
     "execution_count": 2,
     "metadata": {},
     "output_type": "execute_result"
    }
   ],
   "source": [
    "# This will convert 200 minutes to hours by diving by 60\n",
    "200/60"
   ]
  },
  {
   "cell_type": "code",
   "execution_count": null,
   "id": "2807b9d1",
   "metadata": {},
   "outputs": [],
   "source": []
  }
 ],
 "metadata": {
  "kernelspec": {
   "display_name": "Python 3 (ipykernel)",
   "language": "python",
   "name": "python3"
  },
  "language_info": {
   "codemirror_mode": {
    "name": "ipython",
    "version": 3
   },
   "file_extension": ".py",
   "mimetype": "text/x-python",
   "name": "python",
   "nbconvert_exporter": "python",
   "pygments_lexer": "ipython3",
   "version": "3.10.9"
  }
 },
 "nbformat": 4,
 "nbformat_minor": 5
}
